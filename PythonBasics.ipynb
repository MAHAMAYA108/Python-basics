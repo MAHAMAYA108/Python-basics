{
  "nbformat": 4,
  "nbformat_minor": 0,
  "metadata": {
    "colab": {
      "provenance": [],
      "authorship_tag": "ABX9TyP6lX9qPSf/rJXH6tiDsLfT",
      "include_colab_link": true
    },
    "kernelspec": {
      "name": "python3",
      "display_name": "Python 3"
    },
    "language_info": {
      "name": "python"
    }
  },
  "cells": [
    {
      "cell_type": "markdown",
      "metadata": {
        "id": "view-in-github",
        "colab_type": "text"
      },
      "source": [
        "<a href=\"https://colab.research.google.com/github/MAHAMAYA108/Python-basics/blob/main/PythonBasics.ipynb\" target=\"_parent\"><img src=\"https://colab.research.google.com/assets/colab-badge.svg\" alt=\"Open In Colab\"/></a>"
      ]
    },
    {
      "cell_type": "markdown",
      "source": [
        "to print sth"
      ],
      "metadata": {
        "id": "EfNQPiPY0IWF"
      }
    },
    {
      "cell_type": "code",
      "execution_count": null,
      "metadata": {
        "colab": {
          "base_uri": "https://localhost:8080/"
        },
        "id": "CtX-8d09RbRz",
        "outputId": "0fed04be-aa93-4bd9-d217-83257d658d54"
      },
      "outputs": [
        {
          "output_type": "stream",
          "name": "stdout",
          "text": [
            "Hello Assignment\n"
          ]
        }
      ],
      "source": [
        "# how to print sth\n",
        "print(\"Hello Assignment\")"
      ]
    },
    {
      "cell_type": "markdown",
      "source": [
        "python indention"
      ],
      "metadata": {
        "id": "vjCWNkzG0Rv3"
      }
    },
    {
      "cell_type": "code",
      "source": [
        "# python indention\n",
        "a=int(input())\n",
        "b=int(input())\n",
        "if a>b :\n",
        "  print(\"first value is greter\")\n",
        "else:\n",
        "  print(\"second value is greater\")\n",
        "\n"
      ],
      "metadata": {
        "colab": {
          "base_uri": "https://localhost:8080/"
        },
        "id": "MgBay3iAR1RK",
        "outputId": "77ae6e6d-e7ad-4e76-c14d-627cbad707c6"
      },
      "execution_count": null,
      "outputs": [
        {
          "output_type": "stream",
          "name": "stdout",
          "text": [
            "7\n",
            "20\n",
            "second value is greater\n"
          ]
        }
      ]
    },
    {
      "cell_type": "markdown",
      "source": [
        "python comment"
      ],
      "metadata": {
        "id": "NhI65Eji0o32"
      }
    },
    {
      "cell_type": "code",
      "source": [
        "#python comments\n",
        "''' single liner use hashtags\n",
        "multiliner use triple quotation'''\n"
      ],
      "metadata": {
        "colab": {
          "base_uri": "https://localhost:8080/",
          "height": 35
        },
        "id": "Lh_OwlTSS60i",
        "outputId": "b242cf9d-4eec-450d-948c-90b775423257"
      },
      "execution_count": null,
      "outputs": [
        {
          "output_type": "execute_result",
          "data": {
            "text/plain": [
              "' single liner use hashtags\\nmultiliner use triple quotation'"
            ],
            "application/vnd.google.colaboratory.intrinsic+json": {
              "type": "string"
            }
          },
          "metadata": {},
          "execution_count": 4
        }
      ]
    },
    {
      "cell_type": "markdown",
      "source": [],
      "metadata": {
        "id": "EuO5NC2G0yEk"
      }
    },
    {
      "cell_type": "markdown",
      "source": [
        "python variable"
      ],
      "metadata": {
        "id": "bK7L8QFl0yY4"
      }
    },
    {
      "cell_type": "code",
      "source": [
        "# python variables\n",
        "x=5 #int\n",
        "y=\"siya\" #string\n",
        "a=b=ab=\"just do it \" # to show you can assign multiple values\n",
        "print(x)\n",
        "print(y)\n",
        "print(ab)\n",
        "print(\"what soever happens \"+ a)"
      ],
      "metadata": {
        "colab": {
          "base_uri": "https://localhost:8080/"
        },
        "id": "ASsyKMN6TtKE",
        "outputId": "a1ec93a4-49bb-42af-f055-c637d9533117"
      },
      "execution_count": null,
      "outputs": [
        {
          "output_type": "stream",
          "name": "stdout",
          "text": [
            "5\n",
            "siya\n",
            "just do it \n",
            "what soever happens just do it \n"
          ]
        }
      ]
    },
    {
      "cell_type": "markdown",
      "source": [
        "global variable"
      ],
      "metadata": {
        "id": "2GuaBc-w06FU"
      }
    },
    {
      "cell_type": "code",
      "source": [
        "# global variable\n",
        "x= \"wonderful\"\n",
        "def myfunc():\n",
        "  x= \"amazing\"\n",
        "  print(\"Emotional Intelligence is \" + x)\n",
        "\n",
        "myfunc()\n",
        "print( \"Emotional Intelligence is \" + x )"
      ],
      "metadata": {
        "colab": {
          "base_uri": "https://localhost:8080/"
        },
        "id": "KkXqIT7oVLt6",
        "outputId": "befa191b-97e1-4c0d-bffd-87c218c2d465"
      },
      "execution_count": null,
      "outputs": [
        {
          "output_type": "stream",
          "name": "stdout",
          "text": [
            "Emotional Intelligence is amazing\n",
            "Emotional Intelligence is wonderful\n"
          ]
        }
      ]
    },
    {
      "cell_type": "markdown",
      "source": [
        "condition of global variable"
      ],
      "metadata": {
        "id": "7qn65HwC1G3d"
      }
    },
    {
      "cell_type": "code",
      "source": [
        "#condition of global variable\n",
        "a=\"independent\"\n",
        "print(\"Women are \"+a)\n",
        "def myfunc(num):\n",
        "  global a\n",
        "  a=\"independent\"\n",
        "\n",
        "myfunc(a)\n",
        "print ( \"Women are \"+ a)"
      ],
      "metadata": {
        "colab": {
          "base_uri": "https://localhost:8080/"
        },
        "id": "eHEGHgvGWUtf",
        "outputId": "fd87e355-4ab4-49c4-b69a-1ca774b9b832"
      },
      "execution_count": null,
      "outputs": [
        {
          "output_type": "stream",
          "name": "stdout",
          "text": [
            "Women are independent\n",
            "Women are independent\n"
          ]
        }
      ]
    },
    {
      "cell_type": "markdown",
      "source": [
        "types of python datatypes"
      ],
      "metadata": {
        "id": "ubJvnlo41Ux1"
      }
    },
    {
      "cell_type": "code",
      "source": [
        "# datatypes\n",
        "\n",
        "a = \"variable\"\n",
        "b=10\n",
        "c=float(20.75)\n",
        "d=complex(7j)\n",
        "print(b)\n",
        "print(c)\n",
        "print(d)\n",
        "\n",
        "# list, tuple, range, dict, set, frozenset\n",
        "e=[\"grow\", \"glow\", \"evolve\"]\n",
        "f=(\"grow\", \"glow\",\" evolve\")\n",
        "g={\"grow\":\"glow\",\"weight\":42 }\n",
        "h={\"grow\",\" glow\",\"evolve\"}\n",
        "i=frozenset({\"grow\",\"glow\", \"evolve\"})\n",
        "print(e)\n",
        "print(f)\n",
        "print(g)\n",
        "print(h)\n",
        "print(i)\n",
        "# to find data type\n",
        "print(type(e))\n",
        "print(type(f))\n",
        "print(type(g))\n",
        "print(type(h))\n",
        "print(type(i))\n",
        "\n",
        "#bool, bytes, bytearray, memoryview\n",
        "j=True\n",
        "print(j)\n",
        "k=b\"hello beautiful\"\n",
        "print(k)\n",
        "l=bytearray(6)\n",
        "print(l)\n",
        "m=memoryview(bytes(5))\n",
        "print(m)\n",
        "\n"
      ],
      "metadata": {
        "colab": {
          "base_uri": "https://localhost:8080/"
        },
        "id": "67aAEXjqYI6m",
        "outputId": "d18882c5-9f9a-4eeb-e193-1ca4180462d2"
      },
      "execution_count": null,
      "outputs": [
        {
          "output_type": "stream",
          "name": "stdout",
          "text": [
            "10\n",
            "20.75\n",
            "7j\n",
            "['grow', 'glow', 'evolve']\n",
            "('grow', 'glow', ' evolve')\n",
            "{'grow': 'glow', 'weight': 42}\n",
            "{'evolve', ' glow', 'grow'}\n",
            "frozenset({'glow', 'evolve', 'grow'})\n",
            "<class 'list'>\n",
            "<class 'tuple'>\n",
            "<class 'dict'>\n",
            "<class 'set'>\n",
            "<class 'frozenset'>\n",
            "True\n",
            "b'hello beautiful'\n",
            "bytearray(b'\\x00\\x00\\x00\\x00\\x00\\x00')\n",
            "<memory at 0x7d46aacd16c0>\n"
          ]
        }
      ]
    },
    {
      "cell_type": "markdown",
      "source": [
        "type casting/ version"
      ],
      "metadata": {
        "id": "AHuMYkxg1bRr"
      }
    },
    {
      "cell_type": "code",
      "source": [
        "#type casting / conversion\n",
        "#(you cannot convert complex number into another number type)\n",
        "a= float(20)\n",
        "b=int(1.23)\n",
        "c= complex(a)\n",
        "print(a)\n",
        "print(b)\n",
        "print(c)\n",
        "\n"
      ],
      "metadata": {
        "colab": {
          "base_uri": "https://localhost:8080/"
        },
        "id": "Tj82wwXZe6-0",
        "outputId": "99868988-eb61-4605-9fed-dcda64b3bb0d"
      },
      "execution_count": null,
      "outputs": [
        {
          "output_type": "stream",
          "name": "stdout",
          "text": [
            "20.0\n",
            "1\n",
            "(20+0j)\n"
          ]
        }
      ]
    },
    {
      "cell_type": "markdown",
      "source": [
        "printing random number"
      ],
      "metadata": {
        "id": "g9BJpKvn1n0U"
      }
    },
    {
      "cell_type": "code",
      "source": [
        "#random number\n",
        "import random\n",
        "print(random.randrange(1,1111))"
      ],
      "metadata": {
        "colab": {
          "base_uri": "https://localhost:8080/"
        },
        "id": "I4t9gE50gT5d",
        "outputId": "524415c2-cb42-425e-890b-328877589ce1"
      },
      "execution_count": null,
      "outputs": [
        {
          "output_type": "stream",
          "name": "stdout",
          "text": [
            "1100\n"
          ]
        }
      ]
    },
    {
      "cell_type": "markdown",
      "source": [
        "indexing, -ve indexing, range, check , change , insert items"
      ],
      "metadata": {
        "id": "hoVCXNUd2DbG"
      }
    },
    {
      "cell_type": "code",
      "source": [
        "a=[\"grow\",\"glow\",\"evolve\",\" breathe\",\"embrace\"]\n",
        "print(a)\n",
        "\n",
        "#to acces item by indexing (starts from 0)\n",
        "print(a[0])\n",
        "\n",
        "# negetive indexing(starts from-1)\n",
        "print(a[-1])\n",
        "\n",
        "# range of indexes\n",
        "print(a[1:4])\n",
        "print(a[:4])\n",
        "print(a[2:])\n",
        "\n",
        "#range in -ve (second written range not included)\n",
        "print(a[-4:-1])\n",
        "\n",
        "# check if item exists\n",
        "if \"evolve\" in a:\n",
        "  print(\"yes, evolviing is a goal\")\n",
        "\n",
        "#change list item\n",
        "a[4]=\"live\"\n",
        "print(a)\n",
        "\n",
        "#change a range of item values\n",
        "#add more items\n",
        "a[2:5]=[\"gratitude\",\"ceribral\"]\n",
        "print(a)\n",
        "\n",
        "# insert less items\n",
        "a[1:4]=[ \"self love\"]\n",
        "\n",
        "# insert items\n",
        "a.insert(4,\"livemore\")\n",
        "\n"
      ],
      "metadata": {
        "colab": {
          "base_uri": "https://localhost:8080/"
        },
        "id": "7K1j00ZmhK3g",
        "outputId": "5164d7aa-95ce-4423-8a48-cb55da9cbbf9"
      },
      "execution_count": null,
      "outputs": [
        {
          "output_type": "stream",
          "name": "stdout",
          "text": [
            "['grow', 'glow', 'evolve', ' breathe', 'embrace']\n",
            "grow\n",
            "embrace\n",
            "['glow', 'evolve', ' breathe']\n",
            "['grow', 'glow', 'evolve', ' breathe']\n",
            "['evolve', ' breathe', 'embrace']\n",
            "['glow', 'evolve', ' breathe']\n",
            "yes, evolviing is a goal\n",
            "['grow', 'glow', 'evolve', ' breathe', 'live']\n",
            "['grow', 'glow', 'gratitude', 'ceribral']\n"
          ]
        }
      ]
    },
    {
      "cell_type": "markdown",
      "source": [
        "list methods"
      ],
      "metadata": {
        "id": "KxlJpTMhnPsf"
      }
    },
    {
      "cell_type": "code",
      "source": [
        "#list methods\n",
        "a=[\"bus\", \"car\", \"train\"]\n",
        "print(a)\n",
        "\n",
        "# add list item to end of list\n",
        "a.append(\"truck\")\n",
        "print(a)\n",
        "\n",
        "#to insert a list at a specified index\n",
        "a.insert(1,\"bike\")\n",
        "print(a)\n",
        "\n",
        "# extend list: to append elements from another list to the current list\n",
        "b=[\"crane\", \"summo\", \"bicycle\"]\n",
        "a.extend(b)\n",
        "print(a)\n",
        "\n",
        "#sort the list\n",
        "a.sort()\n",
        "print(a)\n",
        "#reverse the list\n",
        "a.reverse()\n",
        "print(a)\n",
        "\n",
        "#return no. of elements with the specified value\n",
        "print(a.count(\"crane\"))\n",
        "\n",
        "#returns index of the first element with specified value\n",
        "print(a.index(\"truck\"))\n",
        "\n",
        "# remove specified item\n",
        "a.remove(\"bicycle\")\n",
        "print(a)\n",
        "\n",
        "# remove specified index\n",
        "a.pop(6)\n",
        "print(a)\n",
        "\n",
        "#remove last item\n",
        "a.pop()\n",
        "print(a)\n",
        "\n",
        "#delete specified index\n",
        "del a[4]\n",
        "print(a)\n",
        "\n",
        "#delete first item\n",
        "del a[0]\n",
        "print(a)\n",
        "\n",
        "# clear the list\n",
        "a.clear()\n",
        "print(a)\n",
        "\n"
      ],
      "metadata": {
        "colab": {
          "base_uri": "https://localhost:8080/"
        },
        "id": "3-Hzx1UFo32t",
        "outputId": "ac918906-4a15-4b20-8e16-d56851998c15"
      },
      "execution_count": null,
      "outputs": [
        {
          "output_type": "stream",
          "name": "stdout",
          "text": [
            "['bus', 'car', 'train']\n",
            "['bus', 'car', 'train', 'truck']\n",
            "['bus', 'bike', 'car', 'train', 'truck']\n",
            "['bus', 'bike', 'car', 'train', 'truck', 'crane', 'summo', 'bicycle']\n",
            "['bicycle', 'bike', 'bus', 'car', 'crane', 'summo', 'train', 'truck']\n",
            "['truck', 'train', 'summo', 'crane', 'car', 'bus', 'bike', 'bicycle']\n",
            "1\n",
            "0\n",
            "['truck', 'train', 'summo', 'crane', 'car', 'bus', 'bike']\n",
            "['truck', 'train', 'summo', 'crane', 'car', 'bus']\n",
            "['truck', 'train', 'summo', 'crane', 'car']\n",
            "['truck', 'train', 'summo', 'crane']\n",
            "['train', 'summo', 'crane']\n",
            "[]\n"
          ]
        }
      ]
    },
    {
      "cell_type": "markdown",
      "source": [
        "**TUPLES**"
      ],
      "metadata": {
        "id": "ChSS5S5dqdtr"
      }
    },
    {
      "cell_type": "code",
      "source": [
        "a=(\"grow\",\"glow\",\"evolve\",\" breathe\",\"embrace\",11.11)\n",
        "print(a)\n",
        "\n",
        "#to acces item by indexing (starts from 0)\n",
        "print(a[0])\n",
        "\n",
        "# negetive indexing(starts from-1)\n",
        "print(a[-1])\n",
        "\n",
        "# range of indexes\n",
        "print(a[1:4])\n",
        "print(a[:4])\n",
        "print(a[2:])\n",
        "\n",
        "#range in -ve (second written range not included)\n",
        "print(a[-4:-1])\n",
        "\n",
        "# check if item exists\n",
        "if \"evolve\" in a:\n",
        "  print(\"yes, evolviing is a goal\")\n",
        "\n",
        "#tuples are unchangeable\n",
        "\n",
        "#join 2 tuples\n",
        "b=(\"pray\",\"slay\")\n",
        "c=a+b\n",
        "print(c)\n",
        "\n",
        "# search for thetuple for a specific value and return the position of where it was found\n",
        "x=a.index(\"embrace\")\n",
        "print(x)\n",
        "\n",
        "# return a number of times a specified value occurs\n",
        "y=a.count(11.11)\n",
        "print(y)"
      ],
      "metadata": {
        "colab": {
          "base_uri": "https://localhost:8080/"
        },
        "id": "PGqIEvAvm3Fb",
        "outputId": "38c81ff6-74c8-48c1-a3ed-0f156bed1a96"
      },
      "execution_count": null,
      "outputs": [
        {
          "output_type": "stream",
          "name": "stdout",
          "text": [
            "('grow', 'glow', 'evolve', ' breathe', 'embrace', 11.11)\n",
            "grow\n",
            "11.11\n",
            "('glow', 'evolve', ' breathe')\n",
            "('grow', 'glow', 'evolve', ' breathe')\n",
            "('evolve', ' breathe', 'embrace', 11.11)\n",
            "('evolve', ' breathe', 'embrace')\n",
            "yes, evolviing is a goal\n",
            "('grow', 'glow', 'evolve', ' breathe', 'embrace', 11.11, 'pray', 'slay')\n",
            "4\n",
            "1\n"
          ]
        }
      ]
    },
    {
      "cell_type": "markdown",
      "source": [
        "SETS"
      ],
      "metadata": {
        "id": "l2kSvLbit50R"
      }
    },
    {
      "cell_type": "code",
      "source": [
        "myset={\"grow\",\"glow\",\"evolve\",\" breathe\",11.11}\n",
        "print(myset)\n",
        "\n",
        "#to determine length of set\n",
        "print(len(myset))\n",
        "\n",
        "# you cannot change set\n",
        "\n",
        "#add item to set\n",
        "myset.add(\"embrace\")\n",
        "print(myset)\n",
        "\n",
        "#add multiple items to a set\n",
        "myset.update([\"pray\",\"slay\"])\n",
        "print(myset)\n",
        "\n",
        "#remove item\n",
        "myset.remove(\"pray\")\n",
        "print(myset)\n",
        "#item does not exist remove( )will raise an error insuch case\n",
        "myset.discard(\"slay\")\n",
        "print(myset)\n",
        "\n",
        "# joins two sets ---- use update()/union()\n",
        "spaceset={\"love\",\"peace\"}\n",
        "myset.update(spaceset)\n",
        "print(myset)\n",
        "\n",
        "#remove last item\n",
        "x=myset.pop()\n",
        "print(x)\n",
        "print(myset)\n"
      ],
      "metadata": {
        "colab": {
          "base_uri": "https://localhost:8080/"
        },
        "id": "-FYCIgEoqO6m",
        "outputId": "2befd5df-2f67-4c31-9d2b-ccbe1f602810"
      },
      "execution_count": null,
      "outputs": [
        {
          "output_type": "stream",
          "name": "stdout",
          "text": [
            "{' breathe', 'glow', 'grow', 11.11, 'evolve'}\n",
            "5\n",
            "{' breathe', 'glow', 'grow', 11.11, 'evolve', 'embrace'}\n",
            "{' breathe', 'slay', 'glow', 'grow', 11.11, 'evolve', 'pray', 'embrace'}\n",
            "{' breathe', 'slay', 'glow', 'grow', 11.11, 'evolve', 'embrace'}\n",
            "{' breathe', 'glow', 'grow', 11.11, 'evolve', 'embrace'}\n",
            "{' breathe', 'glow', 11.11, 'evolve', 'embrace', 'love', 'grow', 'peace'}\n",
            " breathe\n",
            "{'glow', 11.11, 'evolve', 'embrace', 'love', 'grow', 'peace'}\n"
          ]
        }
      ]
    },
    {
      "cell_type": "markdown",
      "source": [
        "DICTIONARY"
      ],
      "metadata": {
        "id": "yo5iDvAYu7tg"
      }
    },
    {
      "cell_type": "code",
      "source": [
        "#DICTIONARY\n",
        "office = {\n",
        "    \"employee1\": {\"name\": \"John Doe\", \"age\": 30, \"department\": \"Sales\"},\n",
        "    \"employee2\": {\"name\": \"Jane Smith\", \"age\": 25, \"department\": \"Marketing\"},\n",
        "    \"employee3\": {\"name\": \"Peter Jones\", \"age\": 40, \"department\": \"Engineering\"}\n",
        "}\n",
        "\n",
        "# Accessing elements\n",
        "print(office[\"employee1\"])\n",
        "print(office[\"employee1\"][\"name\"])\n",
        "\n",
        "\n",
        "# Adding elements\n",
        "office[\"employee4\"] = {\"name\": \"Alice Brown\", \"age\": 28, \"department\": \"HR\"}\n",
        "print(office)\n",
        "\n",
        "\n",
        "# Modifying elements\n",
        "office[\"employee3\"][\"department\"] = \"Product Development\"\n",
        "print(office)\n",
        "\n",
        "\n",
        "# Removing elements\n",
        "del office[\"employee2\"]\n",
        "print(office)\n",
        "\n",
        "\n",
        "# Other dictionary operations\n",
        "\n",
        "# Checking if a key exists\n",
        "print(\"employee1\" in office)\n",
        "print(\"employee5\" in office)\n",
        "\n",
        "\n",
        "# Getting all keys\n",
        "print(office.keys())\n",
        "\n",
        "# Getting all values\n",
        "print(office.values())\n",
        "\n",
        "# Getting all key-value pairs\n",
        "print(office.items())\n",
        "\n",
        "# Iterating through the dictionary\n",
        "for employee_id, employee_data in office.items():\n",
        "    print(f\"Employee ID: {employee_id}\")\n",
        "    for key, value in employee_data.items():\n",
        "        print(f\"\\t{key}: {value}\")\n",
        "\n",
        "\n",
        "# Clearing the dictionary\n",
        "#office.clear()\n",
        "#print(office) # Output: {}\n",
        "\n",
        "# Copying the dictionary\n",
        "new_office = office.copy()\n",
        "print(new_office)\n",
        "\n",
        "# Finding length of dictionary\n",
        "print(len(office))"
      ],
      "metadata": {
        "colab": {
          "base_uri": "https://localhost:8080/"
        },
        "id": "4MqHw7_5xjZF",
        "outputId": "f3165345-ef01-42bf-ee70-2cde0965230e"
      },
      "execution_count": null,
      "outputs": [
        {
          "output_type": "stream",
          "name": "stdout",
          "text": [
            "{'name': 'John Doe', 'age': 30, 'department': 'Sales'}\n",
            "John Doe\n",
            "{'employee1': {'name': 'John Doe', 'age': 30, 'department': 'Sales'}, 'employee2': {'name': 'Jane Smith', 'age': 25, 'department': 'Marketing'}, 'employee3': {'name': 'Peter Jones', 'age': 40, 'department': 'Engineering'}, 'employee4': {'name': 'Alice Brown', 'age': 28, 'department': 'HR'}}\n",
            "{'employee1': {'name': 'John Doe', 'age': 30, 'department': 'Sales'}, 'employee2': {'name': 'Jane Smith', 'age': 25, 'department': 'Marketing'}, 'employee3': {'name': 'Peter Jones', 'age': 40, 'department': 'Product Development'}, 'employee4': {'name': 'Alice Brown', 'age': 28, 'department': 'HR'}}\n",
            "{'employee1': {'name': 'John Doe', 'age': 30, 'department': 'Sales'}, 'employee3': {'name': 'Peter Jones', 'age': 40, 'department': 'Product Development'}, 'employee4': {'name': 'Alice Brown', 'age': 28, 'department': 'HR'}}\n",
            "True\n",
            "False\n",
            "dict_keys(['employee1', 'employee3', 'employee4'])\n",
            "dict_values([{'name': 'John Doe', 'age': 30, 'department': 'Sales'}, {'name': 'Peter Jones', 'age': 40, 'department': 'Product Development'}, {'name': 'Alice Brown', 'age': 28, 'department': 'HR'}])\n",
            "dict_items([('employee1', {'name': 'John Doe', 'age': 30, 'department': 'Sales'}), ('employee3', {'name': 'Peter Jones', 'age': 40, 'department': 'Product Development'}), ('employee4', {'name': 'Alice Brown', 'age': 28, 'department': 'HR'})])\n",
            "Employee ID: employee1\n",
            "\tname: John Doe\n",
            "\tage: 30\n",
            "\tdepartment: Sales\n",
            "Employee ID: employee3\n",
            "\tname: Peter Jones\n",
            "\tage: 40\n",
            "\tdepartment: Product Development\n",
            "Employee ID: employee4\n",
            "\tname: Alice Brown\n",
            "\tage: 28\n",
            "\tdepartment: HR\n",
            "{'employee1': {'name': 'John Doe', 'age': 30, 'department': 'Sales'}, 'employee3': {'name': 'Peter Jones', 'age': 40, 'department': 'Product Development'}, 'employee4': {'name': 'Alice Brown', 'age': 28, 'department': 'HR'}}\n",
            "3\n"
          ]
        }
      ]
    },
    {
      "cell_type": "markdown",
      "source": [
        "FILE HANDLING"
      ],
      "metadata": {
        "id": "xp6XVtbMysoo"
      }
    },
    {
      "cell_type": "code",
      "source": [
        "import os\n",
        "\n",
        "def demo_file_operations(demofile=\"demo.txt\"):\n",
        "    # Create a demo file\n",
        "    with open(demofile, \"w\") as f:\n",
        "        f.write(\"This is a demo file.\\n\")\n",
        "        f.write(\"This is the second line.\\n\")\n",
        "        f.write(\"This is the third line.\\n\")\n",
        "\n",
        "\n",
        "    # Open the file\n",
        "    try:\n",
        "        f = open(demofile, \"r\")\n",
        "        print(f.read())\n",
        "    except FileNotFoundError:\n",
        "        print(f\"Error: File '{demofile}' not found.\")\n",
        "        return\n",
        "\n",
        "    # Open a part of the file\n",
        "    f = open(demofile, \"r\")\n",
        "    print(f.read(10)) #Reads first 10 characters\n",
        "    f.close()\n",
        "\n",
        "    # Open a file from a different location (replace with your desired path)\n",
        "    different_location_file = \"/content/drive/My Drive/demo_copy.txt\"\n",
        "\n",
        "    # Check if the target directory exists, if not create it\n",
        "    target_directory = os.path.dirname(different_location_file)\n",
        "    if not os.path.exists(target_directory):\n",
        "       os.makedirs(target_directory)\n",
        "\n",
        "    try:\n",
        "      with open(demofile, \"r\") as source_file, open(different_location_file, \"w\") as dest_file:\n",
        "          for line in source_file:\n",
        "              dest_file.write(line)\n",
        "    except Exception as e:\n",
        "      print(f\"An error occurred: {e}\")\n",
        "      return\n",
        "\n",
        "    # Append to a file\n",
        "    with open(demofile, \"a\") as f:\n",
        "        f.write(\"This line is appended.\\n\")\n",
        "\n",
        "    # Read the first line of the file\n",
        "    with open(demofile, \"r\") as f:\n",
        "        first_line = f.readline()\n",
        "        print(\"First line:\", first_line)\n",
        "\n",
        "    # Read the first 3 lines of the file\n",
        "    with open(demofile, \"r\") as f:\n",
        "        first_three_lines = [next(f) for x in range(3)]\n",
        "        print(\"First 3 lines:\", first_three_lines)\n",
        "\n",
        "    # Read the whole file line by line\n",
        "    with open(demofile, \"r\") as f:\n",
        "        for line in f:\n",
        "            print(\"Line:\", line.strip())  # strip removes trailing newlines\n",
        "\n",
        "\n",
        "    # Overwrite the existing file\n",
        "    with open(demofile, \"w\") as f:\n",
        "        f.write(\"The file has been overwritten.\\n\")\n",
        "\n",
        "\n",
        "    # Check if a file exists\n",
        "    if os.path.exists(demofile):\n",
        "        print(f\"The file '{demofile}' exists.\")\n",
        "    else:\n",
        "        print(f\"The file '{demofile}' does not exist.\")\n",
        "\n",
        "#Delete file\n",
        "    if os.path.exists(demofile):\n",
        "       os.remove(demofile)\n",
        "       print(f\"The file '{demofile}' has been deleted successfully.\")\n",
        "    else:\n",
        "       print(f\"The file '{demofile}' does not exist.\")\n",
        "\n",
        "\n",
        "# Example usage:\n",
        "demo_file_operations()"
      ],
      "metadata": {
        "id": "PiqiT8TAy1gl",
        "colab": {
          "base_uri": "https://localhost:8080/"
        },
        "outputId": "1b98ad1a-2d8b-412a-b8bd-b3837d08d8b8"
      },
      "execution_count": null,
      "outputs": [
        {
          "output_type": "stream",
          "name": "stdout",
          "text": [
            "This is a demo file.\n",
            "This is the second line.\n",
            "This is the third line.\n",
            "\n",
            "This is a \n",
            "First line: This is a demo file.\n",
            "\n",
            "First 3 lines: ['This is a demo file.\\n', 'This is the second line.\\n', 'This is the third line.\\n']\n",
            "Line: This is a demo file.\n",
            "Line: This is the second line.\n",
            "Line: This is the third line.\n",
            "Line: This line is appended.\n",
            "The file 'demo.txt' exists.\n",
            "The file 'demo.txt' has been deleted successfully.\n"
          ]
        }
      ]
    },
    {
      "cell_type": "markdown",
      "source": [
        "string handeling"
      ],
      "metadata": {
        "id": "WLMdiVISObv3"
      }
    },
    {
      "cell_type": "code",
      "source": [
        "# string literal\n",
        "my_string = \"Hello, world!\"\n",
        "print(my_string)\n",
        "\n",
        "# multiline strings\n",
        "multiline_string = \"\"\"This is a\n",
        "multiline string.\"\"\"\n",
        "print(my_string)\n",
        "print(multiline_string)\n",
        "\n",
        "# slicing\n",
        "sliced_string = my_string[7:12]\n",
        "print(sliced_string)\n",
        "\n",
        "# modifying strings\n",
        "uppercase_string = my_string.upper()\n",
        "print(uppercase_string)\n",
        "lowercase_string = my_string.lower()\n",
        "print(lowercase_string)\n",
        "\n",
        "# remove whitespace\n",
        "string_with_whitespace = \"   Hello, world!   \"\n",
        "stripped_string = string_with_whitespace.strip()\n",
        "print(stripped_string)\n",
        "\n",
        "# replace\n",
        "replaced_string = my_string.replace(\"world\", \"Python\")\n",
        "print(replaced_string)\n",
        "\n",
        "# split\n",
        "split_string = my_string.split(\",\")\n",
        "print(split_string)\n",
        "\n",
        "# capitalize\n",
        "capitalized_string = my_string.capitalize()\n",
        "print(capitalized_string)\n",
        "\n",
        "# casefold\n",
        "casefolded_string = my_string.casefold()\n",
        "print(casefolded_string)\n",
        "\n",
        "# combining strings and numbers (not directly possible; convert number to string first)\n",
        "age = 30\n",
        "combined_string = \"My age is \" + str(age)\n",
        "print(combined_string)\n",
        "\n",
        "# formatted strings (f-strings)\n",
        "name = \"Alice\"\n",
        "formatted_string = f\"My name is {name} and I am {age} years old.\"\n",
        "print(formatted_string)\n",
        "\n",
        "# using index numbers in placeholders\n",
        "formatted_string_indexed = \"{1} is {0} years old\".format(age, name)\n",
        "print(formatted_string_indexed)\n",
        "\n",
        "# escaping characters\n",
        "escaped_string = \"This string contains a quote: \\\" and a backslash: \\\\\"\n",
        "print(escaped_string)"
      ],
      "metadata": {
        "colab": {
          "base_uri": "https://localhost:8080/"
        },
        "id": "zuk0jDHMOlcb",
        "outputId": "18b34f0d-4df6-4e51-ecdf-de8a5747a5e6"
      },
      "execution_count": null,
      "outputs": [
        {
          "output_type": "stream",
          "name": "stdout",
          "text": [
            "Hello, world!\n",
            "Hello, world!\n",
            "This is a\n",
            "multiline string.\n",
            "world\n",
            "HELLO, WORLD!\n",
            "hello, world!\n",
            "Hello, world!\n",
            "Hello, Python!\n",
            "['Hello', ' world!']\n",
            "Hello, world!\n",
            "hello, world!\n",
            "My age is 30\n",
            "My name is Alice and I am 30 years old.\n",
            "Alice is 30 years old\n",
            "This string contains a quote: \" and a backslash: \\\n"
          ]
        }
      ]
    },
    {
      "cell_type": "markdown",
      "source": [
        "OPERATOERS"
      ],
      "metadata": {
        "id": "kjFbxgqsQeGw"
      }
    },
    {
      "cell_type": "code",
      "source": [
        "# Arithmetic Operators\n",
        "x = 10\n",
        "y = 5\n",
        "\n",
        "print(\"Addition:\", x + y)  # Output: 15\n",
        "print(\"Subtraction:\", x - y)  # Output: 5\n",
        "print(\"Multiplication:\", x * y)  # Output: 50\n",
        "print(\"Division:\", x / y)  # Output: 2.0\n",
        "print(\"Floor Division:\", x // y)  # Output: 2\n",
        "print(\"Modulus:\", x % y)  # Output: 0\n",
        "print(\"Exponentiation:\", x ** y)  # Output: 100000\n",
        "\n",
        "\n",
        "# Comparison Operators\n",
        "print(\"Equal to:\", x == y)  # Output: False\n",
        "print(\"Not equal to:\", x != y)  # Output: True\n",
        "print(\"Greater than:\", x > y)  # Output: True\n",
        "print(\"Less than:\", x < y)  # Output: False\n",
        "print(\"Greater than or equal to:\", x >= y)  # Output: True\n",
        "print(\"Less than or equal to:\", x <= y)  # Output: False\n",
        "\n",
        "\n",
        "# Logical Operators\n",
        "a = True\n",
        "b = False\n",
        "\n",
        "print(\"AND:\", a and b)  # Output: False\n",
        "print(\"OR:\", a or b)  # Output: True\n",
        "print(\"NOT:\", not a)  # Output: False\n",
        "\n",
        "\n",
        "# Assignment Operators\n",
        "x = 10\n",
        "x += 5  # Equivalent to x = x + 5\n",
        "print(\"Addition assignment:\", x)  # Output: 15\n",
        "x -= 2  # Equivalent to x = x - 2\n",
        "print(\"Subtraction assignment:\", x)  # Output: 13\n",
        "x *= 3  # Equivalent to x = x * 3\n",
        "print(\"Multiplication assignment:\", x)  # Output: 39\n",
        "x /= 4  # Equivalent to x = x / 4\n",
        "print(\"Division assignment:\", x)  # Output: 9.75\n",
        "x //= 2  # Equivalent to x = x // 2\n",
        "print(\"Floor division assignment:\", x)  # Output: 4.0\n",
        "x %= 3  # Equivalent to x = x % 3\n",
        "print(\"Modulus assignment:\", x)  # Output: 1.0\n",
        "x **= 2  # Equivalent to x = x ** 2\n",
        "print(\"Exponentiation assignment:\",x) # Output: 1.0\n",
        "\n",
        "\n",
        "# Bitwise Operators (operate on binary representations)\n",
        "p = 10  # Binary: 1010\n",
        "q = 4   # Binary: 0100\n",
        "\n",
        "print(\"Bitwise AND:\", p & q)  # Output: 0 (0000)\n",
        "print(\"Bitwise OR:\", p | q)   # Output: 14 (1110)\n",
        "print(\"Bitwise XOR:\", p ^ q)  # Output: 14 (1110)\n",
        "print(\"Bitwise NOT:\", ~p)   # Output: -11 (inverts bits)\n",
        "print(\"Left shift:\", p << 2)  # Output: 40 (shifts bits 2 positions left)\n",
        "print(\"Right shift:\", p >> 1) # Output: 5 (shifts bits 1 position right)\n",
        "\n",
        "\n",
        "# Membership Operators\n",
        "my_list = [1, 2, 3, 4, 5]\n",
        "\n",
        "print(\"In:\", 3 in my_list)  # Output: True\n",
        "print(\"Not in:\", 6 not in my_list)  # Output: True\n",
        "\n",
        "\n",
        "# Identity Operators\n",
        "a = 10\n",
        "b = 10\n",
        "c = 20\n",
        "print(\"Is:\", a is b)   # Output: True (both point to the same object in memory)\n",
        "print(\"Is not:\", a is not c)  # Output: True"
      ],
      "metadata": {
        "id": "Ew1jt_MzQgOE"
      },
      "execution_count": null,
      "outputs": []
    },
    {
      "cell_type": "markdown",
      "source": [
        "LOOPS"
      ],
      "metadata": {
        "id": "JkJpc9-fRLVn"
      }
    },
    {
      "cell_type": "code",
      "source": [
        "# While loop\n",
        "count = 0\n",
        "while count < 5:\n",
        "  print(f\"While loop iteration: {count}\")\n",
        "  count += 1\n",
        "\n",
        "# For loop\n",
        "fruits = [\"apple\", \"banana\", \"cherry\"]\n",
        "for fruit in fruits:\n",
        "  print(f\"For loop: {fruit}\")\n",
        "\n",
        "# For loop with else\n",
        "for i in range(3):\n",
        "  print(f\"For loop with else: {i}\")\n",
        "else:\n",
        "  print(\"For loop with else: Loop completed\")"
      ],
      "metadata": {
        "id": "C3QLqfHXRc8Y"
      },
      "execution_count": null,
      "outputs": []
    },
    {
      "cell_type": "markdown",
      "source": [
        "CONDITIONALS"
      ],
      "metadata": {
        "id": "g6IXik_kSnAh"
      }
    },
    {
      "cell_type": "code",
      "source": [
        "# if-else statement\n",
        "x = 10\n",
        "if x > 5:\n",
        "    print(\"x is greater than 5\")\n",
        "else:\n",
        "    print(\"x is not greater than 5\")\n",
        "\n",
        "# if-elif-else statement\n",
        "y = 0\n",
        "if y > 0:\n",
        "    print(\"y is positive\")\n",
        "elif y < 0:\n",
        "    print(\"y is negative\")\n",
        "else:\n",
        "    print(\"y is zero\")\n",
        "\n",
        "# Nested if statements\n",
        "age = 20\n",
        "if age >= 18:\n",
        "    print(\"You are an adult\")\n",
        "    if age >= 21:\n",
        "        print(\"You can legally drink alcohol\")\n",
        "    else:\n",
        "        print(\"You can't legally drink alcohol yet\")\n",
        "else:\n",
        "    print(\"You are a minor\")\n",
        "\n",
        "# Short-hand if statement (ternary operator)\n",
        "z = 15\n",
        "print(\"z is greater than 10\") if z > 10 else print(\"z is not greater than 10\")\n",
        "\n",
        "# Pass statement (used as a placeholder when no action is required)\n",
        "if x == 10:\n",
        "    pass # No action is performed here"
      ],
      "metadata": {
        "id": "yOBl573kSdMN"
      },
      "execution_count": null,
      "outputs": []
    },
    {
      "cell_type": "markdown",
      "source": [
        "BREAK STATEMENT"
      ],
      "metadata": {
        "id": "W8POFP1rTAVi"
      }
    },
    {
      "cell_type": "code",
      "source": [
        "# BREAK STATEMENT\n",
        "for i in range(1, 29):\n",
        "    if i == 20:\n",
        "        break  # Exit the loop when i is 20\n",
        "    print(i)\n",
        "\n",
        "print(\"Loop finished\")"
      ],
      "metadata": {
        "colab": {
          "base_uri": "https://localhost:8080/"
        },
        "id": "TQAHrZy2TCcw",
        "outputId": "aed51de2-3676-4221-dd28-6c526c395f19"
      },
      "execution_count": null,
      "outputs": [
        {
          "output_type": "stream",
          "name": "stdout",
          "text": [
            "1\n",
            "2\n",
            "3\n",
            "4\n",
            "5\n",
            "6\n",
            "7\n",
            "8\n",
            "9\n",
            "10\n",
            "11\n",
            "12\n",
            "13\n",
            "14\n",
            "15\n",
            "16\n",
            "17\n",
            "18\n",
            "19\n",
            "Loop finished\n"
          ]
        }
      ]
    },
    {
      "cell_type": "code",
      "source": [
        "#code for while loop and forloop\n",
        "\n",
        "# While loop\n",
        "count = 0\n",
        "while count < 5:\n",
        "  print(f\"While loop iteration: {count}\")\n",
        "  count += 1\n",
        "\n",
        "# For loop\n",
        "fruits = [\"apple\", \"banana\", \"cherry\"]\n",
        "for fruit in fruits:\n",
        "  print(f\"For loop: {fruit}\")"
      ],
      "metadata": {
        "colab": {
          "base_uri": "https://localhost:8080/"
        },
        "id": "RbgLcGP533ew",
        "outputId": "3fdfcbae-d2ac-4151-c5aa-89e921ee0004"
      },
      "execution_count": null,
      "outputs": [
        {
          "output_type": "stream",
          "name": "stdout",
          "text": [
            "While loop iteration: 0\n",
            "While loop iteration: 1\n",
            "While loop iteration: 2\n",
            "While loop iteration: 3\n",
            "While loop iteration: 4\n",
            "For loop: apple\n",
            "For loop: banana\n",
            "For loop: cherry\n"
          ]
        }
      ]
    },
    {
      "cell_type": "code",
      "source": [
        "#  WHILE LOOP\n",
        "\n",
        "# While loop example\n",
        "count = 0\n",
        "while count < 5:\n",
        "  print(f\"While loop iteration: {count}\")\n",
        "  count += 1"
      ],
      "metadata": {
        "id": "sav5a-XW5bFb"
      },
      "execution_count": null,
      "outputs": []
    },
    {
      "cell_type": "code",
      "source": [
        "#FOR LOOP\n",
        "fruits = [\"apple\", \"banana\", \"cherry\"]\n",
        "for fruit in fruits:\n",
        "  print(f\"For loop: {fruit}\")"
      ],
      "metadata": {
        "colab": {
          "base_uri": "https://localhost:8080/"
        },
        "id": "AZmxczE93PLl",
        "outputId": "d4e0e039-50e0-44ea-e0f3-c606700a5c63"
      },
      "execution_count": null,
      "outputs": [
        {
          "output_type": "stream",
          "name": "stdout",
          "text": [
            "For loop: apple\n",
            "For loop: banana\n",
            "For loop: cherry\n"
          ]
        }
      ]
    },
    {
      "cell_type": "code",
      "source": [
        "# NESTED LOOP\n",
        "\n",
        "rows = int(input(\"Enter the number of rows: \"))\n",
        "for i in range(1, rows + 1):\n",
        "    for j in range(1, i + 1):\n",
        "        print(\"*\", end=\" \")\n",
        "    print(\" \")"
      ],
      "metadata": {
        "colab": {
          "base_uri": "https://localhost:8080/"
        },
        "id": "QAPn2ljw3ceU",
        "outputId": "6d23a8f6-ad97-4611-93da-40503df95c83"
      },
      "execution_count": null,
      "outputs": [
        {
          "output_type": "stream",
          "name": "stdout",
          "text": [
            "Enter the number of rows: 6\n",
            "*  \n",
            "* *  \n",
            "* * *  \n",
            "* * * *  \n",
            "* * * * *  \n",
            "* * * * * *  \n"
          ]
        }
      ]
    },
    {
      "cell_type": "code",
      "source": [
        "#continue statement\n",
        "for i in range(1,10):\n",
        "  if i==5:\n",
        "    continue\n",
        "  print(i)\n",
        "  print(\"continue\")"
      ],
      "metadata": {
        "colab": {
          "base_uri": "https://localhost:8080/"
        },
        "id": "GNfuvl3g4RVx",
        "outputId": "b9abf46c-bbfa-459b-c468-5c226a3cc929"
      },
      "execution_count": null,
      "outputs": [
        {
          "output_type": "stream",
          "name": "stdout",
          "text": [
            "1\n",
            "continue\n",
            "2\n",
            "continue\n",
            "3\n",
            "continue\n",
            "4\n",
            "continue\n",
            "6\n",
            "continue\n",
            "7\n",
            "continue\n",
            "8\n",
            "continue\n",
            "9\n",
            "continue\n"
          ]
        }
      ]
    },
    {
      "cell_type": "markdown",
      "source": [
        "BUILT IN FUNCTONS"
      ],
      "metadata": {
        "id": "WaKMR8dy42RM"
      }
    },
    {
      "cell_type": "code",
      "source": [
        "x=int(input(\"enter a number\"))\n",
        "print(x)\n",
        "\n",
        "a=3\n",
        "type(3)\n",
        "\n",
        "print(abs(-95))\n",
        "print(abs(99))\n",
        "\n",
        "print(pow(5,2))\n",
        "\n",
        "print(min([1,2,3,4,5,6,7]))\n",
        "print(max(\"MANIKARAN\"))\n",
        "\n"
      ],
      "metadata": {
        "colab": {
          "base_uri": "https://localhost:8080/"
        },
        "id": "wiBuvEDU73aw",
        "outputId": "a6240aba-a508-4fd1-ed2d-a49cfc1f1fea"
      },
      "execution_count": null,
      "outputs": [
        {
          "output_type": "stream",
          "name": "stdout",
          "text": [
            "enter a number4\n",
            "4\n",
            "95\n",
            "99\n",
            "25\n",
            "1\n",
            "R\n"
          ]
        }
      ]
    },
    {
      "cell_type": "code",
      "source": [
        "c=22/7\n",
        "print(c)\n",
        "print(round(c))\n",
        "print(round(c,2))\n"
      ],
      "metadata": {
        "colab": {
          "base_uri": "https://localhost:8080/"
        },
        "id": "QtuD9HMv75ZH",
        "outputId": "0a805079-ac60-4d88-ecd1-98074fd70814"
      },
      "execution_count": null,
      "outputs": [
        {
          "output_type": "stream",
          "name": "stdout",
          "text": [
            "3.142857142857143\n",
            "3\n",
            "3.14\n"
          ]
        }
      ]
    },
    {
      "cell_type": "code",
      "source": [
        "print(divmod(45,5))"
      ],
      "metadata": {
        "colab": {
          "base_uri": "https://localhost:8080/"
        },
        "id": "Y3MfcGdg9wV9",
        "outputId": "498ffd7c-6c86-4465-d28e-b415be2d582f"
      },
      "execution_count": null,
      "outputs": [
        {
          "output_type": "stream",
          "name": "stdout",
          "text": [
            "(9, 0)\n"
          ]
        }
      ]
    },
    {
      "cell_type": "code",
      "source": [
        "print(bin(5))\n",
        "print(oct(10))\n",
        "print(hex(11))"
      ],
      "metadata": {
        "colab": {
          "base_uri": "https://localhost:8080/"
        },
        "id": "McsmlPzE97-3",
        "outputId": "e57749b6-f8ff-47f5-c41c-de6a9984fae2"
      },
      "execution_count": null,
      "outputs": [
        {
          "output_type": "stream",
          "name": "stdout",
          "text": [
            "0b101\n",
            "0o12\n",
            "0xb\n"
          ]
        }
      ]
    },
    {
      "cell_type": "code",
      "source": [
        "a=45\n",
        "print(id(a))\n",
        "\n",
        "print(ord(\"u\"))\n",
        "print(ord(\"U\"))\n",
        "print(ord(\"c\"))"
      ],
      "metadata": {
        "colab": {
          "base_uri": "https://localhost:8080/"
        },
        "id": "DQpIiyTi-djc",
        "outputId": "ffc55e57-78f9-463e-f681-c601e93435c7"
      },
      "execution_count": null,
      "outputs": [
        {
          "output_type": "stream",
          "name": "stdout",
          "text": [
            "134068316980848\n",
            "117\n",
            "85\n",
            "99\n"
          ]
        }
      ]
    },
    {
      "cell_type": "code",
      "source": [
        "from __future__ import unicode_literals\n",
        "l=[1,2,3,4,5,6,7,8,9]\n",
        "print(len(l))\n",
        "print(sum(l))\n",
        "print(sorted(l))\n",
        "print(sorted(l,reverse=True))\n",
        "help(unicode_literals)"
      ],
      "metadata": {
        "colab": {
          "base_uri": "https://localhost:8080/"
        },
        "id": "rE9v3vah-7Lw",
        "outputId": "75902a09-52b6-4c29-b82a-844c882857e2"
      },
      "execution_count": null,
      "outputs": [
        {
          "output_type": "stream",
          "name": "stdout",
          "text": [
            "9\n",
            "45\n",
            "[1, 2, 3, 4, 5, 6, 7, 8, 9]\n",
            "[9, 8, 7, 6, 5, 4, 3, 2, 1]\n",
            "Help on _Feature in module __future__ object:\n",
            "\n",
            "class _Feature(builtins.object)\n",
            " |  _Feature(optionalRelease, mandatoryRelease, compiler_flag)\n",
            " |  \n",
            " |  Methods defined here:\n",
            " |  \n",
            " |  __init__(self, optionalRelease, mandatoryRelease, compiler_flag)\n",
            " |      Initialize self.  See help(type(self)) for accurate signature.\n",
            " |  \n",
            " |  __repr__(self)\n",
            " |      Return repr(self).\n",
            " |  \n",
            " |  getMandatoryRelease(self)\n",
            " |      Return release in which this feature will become mandatory.\n",
            " |      \n",
            " |      This is a 5-tuple, of the same form as sys.version_info, or, if\n",
            " |      the feature was dropped, is None.\n",
            " |  \n",
            " |  getOptionalRelease(self)\n",
            " |      Return first release in which this feature was recognized.\n",
            " |      \n",
            " |      This is a 5-tuple, of the same form as sys.version_info.\n",
            " |  \n",
            " |  ----------------------------------------------------------------------\n",
            " |  Data descriptors defined here:\n",
            " |  \n",
            " |  __dict__\n",
            " |      dictionary for instance variables (if defined)\n",
            " |  \n",
            " |  __weakref__\n",
            " |      list of weak references to the object (if defined)\n",
            "\n"
          ]
        }
      ]
    },
    {
      "cell_type": "markdown",
      "source": [
        "**built in modules**"
      ],
      "metadata": {
        "id": "4DQ6gD8O_yrJ"
      }
    },
    {
      "cell_type": "code",
      "source": [
        "import math\n",
        "x = math.sqrt(25)\n",
        "y=math.pi\n",
        "z = math.e\n",
        "\n",
        "\n",
        "print(z)"
      ],
      "metadata": {
        "colab": {
          "base_uri": "https://localhost:8080/"
        },
        "id": "bhS02TV__1zT",
        "outputId": "37c50253-9d27-4bc6-f6b1-6d9efde1ddcb"
      },
      "execution_count": null,
      "outputs": [
        {
          "output_type": "stream",
          "name": "stdout",
          "text": [
            "2.718281828459045\n"
          ]
        }
      ]
    },
    {
      "cell_type": "code",
      "source": [
        "import random as ra\n",
        "print(ra.random())\n",
        "x= ra.randint(1,100)\n",
        "print(x)\n",
        "\n",
        "ra.shuffle(([1,2,3,4,5]))\n"
      ],
      "metadata": {
        "colab": {
          "base_uri": "https://localhost:8080/"
        },
        "id": "k3xF9Fve_zkU",
        "outputId": "073ff7e9-6f70-4215-cff7-e5acaf74682d"
      },
      "execution_count": null,
      "outputs": [
        {
          "output_type": "stream",
          "name": "stdout",
          "text": [
            "0.9889363657379477\n",
            "45\n"
          ]
        }
      ]
    },
    {
      "cell_type": "code",
      "source": [
        "import time\n",
        "print(time.time())\n",
        "print(time.localtime())\n",
        "print(time.asctime())\n",
        "print(time.ctime())"
      ],
      "metadata": {
        "colab": {
          "base_uri": "https://localhost:8080/"
        },
        "id": "aT0d2h1z_hTn",
        "outputId": "4f7abdb1-92c5-49e5-ffc8-615fae526fc4"
      },
      "execution_count": null,
      "outputs": [
        {
          "output_type": "stream",
          "name": "stdout",
          "text": [
            "1733206209.0177784\n",
            "time.struct_time(tm_year=2024, tm_mon=12, tm_mday=3, tm_hour=6, tm_min=10, tm_sec=9, tm_wday=1, tm_yday=338, tm_isdst=0)\n",
            "Tue Dec  3 06:10:09 2024\n",
            "Tue Dec  3 06:10:09 2024\n"
          ]
        }
      ]
    },
    {
      "cell_type": "code",
      "source": [
        "import os\n",
        "print(os.getcwd())\n",
        "print(os.listdir())"
      ],
      "metadata": {
        "colab": {
          "base_uri": "https://localhost:8080/"
        },
        "id": "4x6M8LXfJEfl",
        "outputId": "e6d5b4d5-7ba3-47bf-93b9-77f9fb330023"
      },
      "execution_count": null,
      "outputs": [
        {
          "output_type": "stream",
          "name": "stdout",
          "text": [
            "/content\n",
            "['.config', 'sample_data']\n"
          ]
        }
      ]
    }
  ]
}