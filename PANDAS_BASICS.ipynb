{
  "nbformat": 4,
  "nbformat_minor": 0,
  "metadata": {
    "colab": {
      "provenance": [],
      "gpuType": "T4",
      "authorship_tag": "ABX9TyP4HK79oGfK1FzxnNgBqHwG",
      "include_colab_link": true
    },
    "kernelspec": {
      "name": "python3",
      "display_name": "Python 3"
    },
    "language_info": {
      "name": "python"
    },
    "accelerator": "GPU"
  },
  "cells": [
    {
      "cell_type": "markdown",
      "metadata": {
        "id": "view-in-github",
        "colab_type": "text"
      },
      "source": [
        "<a href=\"https://colab.research.google.com/github/MAHAMAYA108/Python-basics/blob/main/PANDAS_BASICS.ipynb\" target=\"_parent\"><img src=\"https://colab.research.google.com/assets/colab-badge.svg\" alt=\"Open In Colab\"/></a>"
      ]
    },
    {
      "cell_type": "markdown",
      "source": [
        "## PANDAS\n",
        "*   Software lib. written for python programming language\n",
        "*   manipulates and analysis the data\n",
        "*   offer data structure and operations for manipulating numerical tables\n",
        "*   gives you power in form of various functions\n",
        "\n",
        "\n",
        "\n"
      ],
      "metadata": {
        "id": "vWxNDDzZAIAE"
      }
    },
    {
      "cell_type": "code",
      "source": [
        "#installaion of pandas....\n",
        "\n",
        "pip install pandas\n",
        "\n",
        "import pandas"
      ],
      "metadata": {
        "id": "ht8JQQtp_o34"
      },
      "execution_count": null,
      "outputs": []
    },
    {
      "cell_type": "markdown",
      "source": [
        "## Pandas main data structure\n",
        "\n",
        "\n",
        "1.   DATAFRAMES:  full table\n",
        "\n",
        "2.   SERIES: single row and column"
      ],
      "metadata": {
        "id": "tg8ulSjMBP3I"
      }
    },
    {
      "cell_type": "code",
      "execution_count": null,
      "metadata": {
        "id": "glMkZzcdxskg"
      },
      "outputs": [],
      "source": []
    },
    {
      "cell_type": "code",
      "source": [],
      "metadata": {
        "id": "9p0rw9lnyG_v"
      },
      "execution_count": null,
      "outputs": []
    }
  ]
}